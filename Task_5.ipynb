{
 "cells": [
  {
   "cell_type": "markdown",
   "id": "639ba06b-11c4-4588-b0ca-62a1adf30d2a",
   "metadata": {},
   "source": [
    "# Pyramid"
   ]
  },
  {
   "cell_type": "code",
   "execution_count": 1,
   "id": "4cfce265-9b5a-4389-8a30-35700b576d61",
   "metadata": {},
   "outputs": [],
   "source": [
    "def print_star_pyramid(n):\n",
    "    for i in range(1, n + 1):\n",
    "       print(' ' * (n - i), end='')\n",
    "       print('* ' * i)"
   ]
  },
  {
   "cell_type": "code",
   "execution_count": 5,
   "id": "d3296f6e-0ae3-4f7e-9dd7-fa333671edd3",
   "metadata": {},
   "outputs": [
    {
     "name": "stdout",
     "output_type": "stream",
     "text": [
      "    * \n",
      "   * * \n",
      "  * * * \n",
      " * * * * \n",
      "* * * * * \n"
     ]
    }
   ],
   "source": [
    "rows = 5\n",
    "print_star_pyramid(rows)\n"
   ]
  },
  {
   "cell_type": "code",
   "execution_count": null,
   "id": "24c6b86b-adee-4067-90e7-b70b51cc4c1a",
   "metadata": {},
   "outputs": [],
   "source": []
  }
 ],
 "metadata": {
  "kernelspec": {
   "display_name": "Python 3 (ipykernel)",
   "language": "python",
   "name": "python3"
  },
  "language_info": {
   "codemirror_mode": {
    "name": "ipython",
    "version": 3
   },
   "file_extension": ".py",
   "mimetype": "text/x-python",
   "name": "python",
   "nbconvert_exporter": "python",
   "pygments_lexer": "ipython3",
   "version": "3.12.4"
  }
 },
 "nbformat": 4,
 "nbformat_minor": 5
}
